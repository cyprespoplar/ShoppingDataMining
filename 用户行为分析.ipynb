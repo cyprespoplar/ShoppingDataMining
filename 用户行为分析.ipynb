{
 "cells": [
  {
   "cell_type": "code",
   "execution_count": 1,
   "metadata": {},
   "outputs": [],
   "source": [
    "import pyarrow.parquet as pq\n",
    "import pandas as pd\n",
    "from concurrent import futures\n",
    "#from tqdm import tqdm\n",
    "import os\n",
    "import json\n",
    "import time\n",
    "import gc\n",
    "from collections import defaultdict\n",
    "from datetime import datetime \n",
    "import matplotlib.pyplot as plt\n",
    "import matplotlib.style as psl\n",
    "%matplotlib inline\n",
    "\n",
    "%config InlineBakend.figure_format = 'svg'\n",
    "plt.rcParams[\"axes.unicode_minus\"] = False\n",
    "plt.rcParams[\"font.sans-serif\"]=[\"Microsoft YaHei\"]\n",
    "psl.use('ggplot')"
   ]
  },
  {
   "cell_type": "markdown",
   "metadata": {},
   "source": [
    "对用户的行为时间进行排序"
   ]
  },
  {
   "cell_type": "code",
   "execution_count": 2,
   "metadata": {},
   "outputs": [],
   "source": [
    "def apply(file_names,operation,batchsize):\n",
    "    \"\"\"\n",
    "        处理单行或是多行数据，输出为Series或是Dataframe\n",
    "    \"\"\"\n",
    "    def file_process(file_name):\n",
    "        \"\"\"\n",
    "            内函数，定义单个处理过程\n",
    "        \"\"\"\n",
    "        assert os.path.exists(file_name),f\"文件{file_name}访问错误\"\n",
    "        assert file_name.endswith('.parquet'),f\"文件{file_name}格式错误\"\n",
    "        file_data = pq.ParquetFile(file_name)\n",
    "        results = []\n",
    "        for batch in file_data.iter_batches(batch_size = batchsize):\n",
    "            df = batch.to_pandas()\n",
    "            result = operation(df)\n",
    "            results.append(result)\n",
    "        results = merge_dic_data(results)\n",
    "        return results\n",
    "    workers = min(20,len(file_names))\n",
    "    with futures.ThreadPoolExecutor(workers) as executor:\n",
    "        results = executor.map(file_process,file_names)\n",
    "    all_results = merge_dic_data(results)\n",
    "    # 此处按照第一列进行排序\n",
    "    result = sorted(all_results.items(),key=lambda x:x[0])\n",
    "    return result\n",
    "def merge_dic_data(dict_list):\n",
    "    merged = defaultdict(int)\n",
    "    for dict in dict_list:\n",
    "        for key,value in dict.items():\n",
    "            merged[key] += value\n",
    "    return merged\n",
    "file_names_1G = [f'./data/1G_data/part-000{x:02d}.parquet' for x in range(8)]\n",
    "file_names_10G = [f'./data/10G_data/part-000{x:02d}.parquet' for x in range(8)]\n",
    "file_names_30G = [f'./data/30G_data/part-000{x:02d}.parquet' for x in range(16)]\n"
   ]
  },
  {
   "cell_type": "markdown",
   "metadata": {},
   "source": [
    "下面进行流量分析"
   ]
  },
  {
   "cell_type": "markdown",
   "metadata": {},
   "source": [
    "先是对日期维度进行分析"
   ]
  },
  {
   "cell_type": "markdown",
   "metadata": {},
   "source": [
    "PV"
   ]
  },
  {
   "cell_type": "code",
   "execution_count": 3,
   "metadata": {},
   "outputs": [],
   "source": [
    "data_name = file_names_30G"
   ]
  },
  {
   "cell_type": "code",
   "execution_count": 4,
   "metadata": {},
   "outputs": [
    {
     "name": "stdout",
     "output_type": "stream",
     "text": [
      "Time taken: 417.31183528900146\n"
     ]
    }
   ],
   "source": [
    "def last_login(df):\n",
    "    date_count = defaultdict(int)\n",
    "    for date_str in df[\"last_login\"]:\n",
    "        try:\n",
    "            date_obj = datetime.fromisoformat(date_str)\n",
    "            day = date_obj.date()\n",
    "            date_count[day] +=1\n",
    "        except ValueError:\n",
    "            print(f\"Date parsing error for date_str: {date_str}\")\n",
    "    return date_count\n",
    "\n",
    "start = time.time()\n",
    "date_data = apply(data_name,last_login,100000)\n",
    "end = time.time()\n",
    "print(f\"Time taken: {end - start}\")\n"
   ]
  },
  {
   "cell_type": "code",
   "execution_count": 5,
   "metadata": {},
   "outputs": [],
   "source": [
    "dates = [date for date, _ in date_data]\n",
    "login_counts = [count for _, count in date_data]\n",
    "\n",
    "# 绘制折线图\n",
    "plt.close(\"all\")\n",
    "plt.figure(figsize=(10, 6))\n",
    "plt.plot(dates, login_counts, color='blue')\n",
    "plt.title('单日登录')\n",
    "plt.xlabel('日期')\n",
    "plt.xticks(rotation=45)\n",
    "plt.ylabel('登录人次')\n",
    "plt.grid(True)\n",
    "plt.tight_layout()\n",
    "\n",
    "# 显示图形\n",
    "#plt.show()\n",
    "plt.savefig(\"./images/day_30G.png\")"
   ]
  },
  {
   "cell_type": "code",
   "execution_count": 6,
   "metadata": {},
   "outputs": [
    {
     "name": "stdout",
     "output_type": "stream",
     "text": [
      "Time taken: 365.02767515182495\n"
     ]
    }
   ],
   "source": [
    "def login_time(df):\n",
    "    hour_count = defaultdict(int)\n",
    "    for date_str in df[\"last_login\"]:\n",
    "        try:\n",
    "            date_obj = datetime.fromisoformat(date_str)\n",
    "            hour = date_obj.hour\n",
    "            hour_count[hour] +=1\n",
    "        except ValueError:\n",
    "            print(f\"Date parsing error for date_str: {date_str}\")\n",
    "    return hour_count\n",
    "\n",
    "start = time.time()\n",
    "hour_data = apply(data_name,login_time,100000)\n",
    "end = time.time()\n",
    "print(f\"Time taken: {end - start}\")"
   ]
  },
  {
   "cell_type": "code",
   "execution_count": 7,
   "metadata": {},
   "outputs": [],
   "source": [
    "hours = [hour for hour, _ in hour_data]\n",
    "hour_login_counts = [count for _, count in hour_data]\n",
    "\n",
    "# 绘制折线图\n",
    "plt.close(\"all\")\n",
    "plt.figure(figsize=(10, 6))\n",
    "plt.plot(hours, hour_login_counts, color='blue')\n",
    "plt.title('单小时登录')\n",
    "plt.xlabel('时间点（小时）')\n",
    "plt.xticks(rotation=45)\n",
    "plt.ylabel('登录人次')\n",
    "plt.grid(True)\n",
    "plt.tight_layout()\n",
    "\n",
    "# 显示图形\n",
    "#plt.show()\n",
    "plt.savefig(\"./images/hour_30G.png\")"
   ]
  },
  {
   "cell_type": "markdown",
   "metadata": {},
   "source": [
    "#### 用户活跃度分析 "
   ]
  },
  {
   "cell_type": "code",
   "execution_count": 8,
   "metadata": {},
   "outputs": [
    {
     "name": "stdout",
     "output_type": "stream",
     "text": [
      "Time taken: 3404.5142107009888\n"
     ]
    }
   ],
   "source": [
    "def active_user(df):\n",
    "    active_count = {\"one month\":0,\"three month\":0,\"six month\":0,\"one year\":0,\"longer\":0}\n",
    "    for login,register in zip(df[\"last_login\"],df[\"registration_date\"]):\n",
    "        try:\n",
    "            date_obj = datetime.fromisoformat(login)\n",
    "            login_data = date_obj.date()\n",
    "            register_date = datetime.strptime(register,\"%Y-%m-%d\").date()\n",
    "            gap = login_data - register_date\n",
    "            if gap.days < 30:\n",
    "                active_count[\"one month\"] += 1\n",
    "            elif gap.days < 90:\n",
    "                active_count[\"three month\"] += 1\n",
    "            elif gap.days < 180:\n",
    "                active_count[\"six month\"] += 1\n",
    "            elif gap.days < 365:\n",
    "                active_count[\"one year\"] += 1\n",
    "            else:\n",
    "                active_count[\"longer\"] += 1\n",
    "        except ValueError:\n",
    "            print(f\"Date parsing error for date_str: {login}\")\n",
    "    return active_count\n",
    "\n",
    "start = time.time()\n",
    "active_data = apply(data_name,active_user,100000)\n",
    "end = time.time()\n",
    "print(f\"Time taken: {end - start}\")"
   ]
  },
  {
   "cell_type": "code",
   "execution_count": 9,
   "metadata": {},
   "outputs": [],
   "source": [
    "labels = {\"one month\":\"一月内\",\"three month\":\"三月内\",\"six month\":\"六月内\",\"one year\":\"一年内\",\"longer\":\"长期\"}\n",
    "labels = [labels[p] for p,_ in active_data]\n",
    "x =  [q for _,q in active_data]\n",
    "plt.close('all')\n",
    "plt.pie(x,\n",
    "        labels = labels,\n",
    "        autopct = '%.1f%%',\n",
    "        pctdistance = 0.6,\n",
    "        startangle = 90,\n",
    "        #explode = [0,0.01,0,0.01,0],\n",
    "        #rotatelabels=True,\n",
    "        textprops = {'fontsize':12,'color':'k'}\n",
    "       )\n",
    "plt.title(\"活跃用户占比\")\n",
    "\n",
    "plt.savefig(\"./images/active_30G.png\")\n"
   ]
  },
  {
   "cell_type": "code",
   "execution_count": null,
   "metadata": {},
   "outputs": [],
   "source": []
  }
 ],
 "metadata": {
  "kernelspec": {
   "display_name": "datamine",
   "language": "python",
   "name": "python3"
  },
  "language_info": {
   "codemirror_mode": {
    "name": "ipython",
    "version": 3
   },
   "file_extension": ".py",
   "mimetype": "text/x-python",
   "name": "python",
   "nbconvert_exporter": "python",
   "pygments_lexer": "ipython3",
   "version": "3.11.0"
  }
 },
 "nbformat": 4,
 "nbformat_minor": 4
}
