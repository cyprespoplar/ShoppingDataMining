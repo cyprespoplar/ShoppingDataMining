{
 "cells": [
  {
   "cell_type": "code",
   "execution_count": 1,
   "id": "d86bb792",
   "metadata": {},
   "outputs": [],
   "source": [
    "from mlxtend.preprocessing import TransactionEncoder\n",
    "from mlxtend.frequent_patterns import fpgrowth, association_rules\n",
    "from time import time\n",
    "import pandas as pd\n",
    "from  os.path import join\n",
    "import pickle as pkl\n",
    "import json\n",
    "\n",
    "data_path = './data/'\n",
    "output_path = './output/'\n",
    "def load_category(path):\n",
    "    # 读取产品数据，id作为key，category和price作为value\n",
    "    category = dict()\n",
    "    with open(path, 'r',encoding='utf-8') as f:\n",
    "        product_file = json.loads(f.read())\n",
    "        for product in product_file['products']:\n",
    "            category[product['id']] = {'category': product['category'],'price': product['price']}\n",
    "    return category\n",
    "\n",
    "def load_all_category(path):\n",
    "    with open(path, 'r',encoding='utf-8') as f:\n",
    "        product_file = json.loads(f.read())\n",
    "    return product_file\n",
    "# 每个产品类别与价格的映射表\n",
    "price_path = join(data_path,'product_catalog.json')    \n",
    "categrory_path = join(data_path,'category_all.json')\n",
    "category_single = load_category(price_path)\n",
    "category_all = load_all_category(categrory_path)\n"
   ]
  },
  {
   "cell_type": "code",
   "execution_count": 2,
   "id": "9e555103",
   "metadata": {},
   "outputs": [
    {
     "data": {
      "text/plain": [
       "(['已支付', '已退款', '已支付', '已支付', '已支付'],\n",
       " [['电子产品'], ['服装'], ['服装'], ['服装'], ['办公', '家居', '办公']])"
      ]
     },
     "execution_count": 2,
     "metadata": {},
     "output_type": "execute_result"
    }
   ],
   "source": [
    "pay_sta = pkl.load(open(join(data_path,'good-refund_10G.pkl'), 'rb'))\n",
    "category = pkl.load(open(join(data_path,'good-good_10G.pkl'),'rb'))\n",
    "pay_sta[:5],category[:5]"
   ]
  },
  {
   "cell_type": "code",
   "execution_count": 3,
   "id": "9044c367",
   "metadata": {},
   "outputs": [
    {
     "data": {
      "text/plain": [
       "(29996203, [['服装'], ['食品', '运动户外'], ['食品', '电子产品'], ['电子产品', '电子产品'], ['食品']])"
      ]
     },
     "execution_count": 3,
     "metadata": {},
     "output_type": "execute_result"
    }
   ],
   "source": [
    "transactions_status = [\n",
    "    txn for \n",
    "    txn,pay in zip(category, pay_sta) if pay in {\"已退款\",\"部分退款\"}\n",
    "]\n",
    "len(transactions_status),transactions_status[:5]"
   ]
  },
  {
   "cell_type": "code",
   "execution_count": 4,
   "id": "3224c422",
   "metadata": {},
   "outputs": [
    {
     "name": "stderr",
     "output_type": "stream",
     "text": [
      "/tmp/ipykernel_2813142/400074079.py:4: FutureWarning: Allowing arbitrary scalar fill_value in SparseDtype is deprecated. In a future version, the fill_value must be a valid value for the SparseDtype.subtype.\n",
      "  df = pd.DataFrame.sparse.from_spmatrix(te_result, columns=te.columns_)\n"
     ]
    }
   ],
   "source": [
    "\n",
    "# 步骤 2：转换为稀疏布尔矩阵\n",
    "te = TransactionEncoder()\n",
    "te_result = te.fit(transactions_status).transform(transactions_status, sparse=True)\n",
    "df = pd.DataFrame.sparse.from_spmatrix(te_result, columns=te.columns_)\n",
    "\n",
    "\n",
    "# 步骤 3：挖掘频繁项集\n",
    "frequent_itemsets = fpgrowth(df, min_support=0.005, use_colnames=True)\n",
    "\n",
    "frequent_itemsets.to_csv(join(output_path,'frequent_status_10G.csv'), \n",
    "                      columns=['support', 'itemsets'],\n",
    "                      sep=',',  # 可以改成 ',' 以便导入 Excel\n",
    "                      index=False,\n",
    "                      encoding='utf-8')"
   ]
  },
  {
   "cell_type": "code",
   "execution_count": 7,
   "id": "f1a50fa2",
   "metadata": {},
   "outputs": [
    {
     "name": "stdout",
     "output_type": "stream",
     "text": [
      "    antecedents consequents   support  confidence      lift\n",
      "0          (食品)        (服装)  0.222669    0.459554  0.942927\n",
      "1          (服装)        (食品)  0.222669    0.456878  0.942927\n",
      "2        (运动户外)        (食品)  0.059807    0.449651  0.928012\n",
      "3        (运动户外)        (服装)  0.060165    0.452348  0.928141\n",
      "4        (运动户外)      (电子产品)  0.059764    0.449334  0.928073\n",
      "..          ...         ...       ...         ...       ...\n",
      "103    (母婴, 服装)      (电子产品)  0.026116    0.428158  0.884335\n",
      "104  (母婴, 电子产品)        (服装)  0.026116    0.431196  0.884740\n",
      "105    (母婴, 办公)        (服装)  0.006967    0.416669  0.854934\n",
      "106    (母婴, 办公)      (电子产品)  0.006891    0.412133  0.851236\n",
      "107    (母婴, 办公)        (食品)  0.006890    0.412047  0.850403\n",
      "\n",
      "[108 rows x 5 columns]\n",
      "done\n"
     ]
    }
   ],
   "source": [
    "# 步骤 4：生成关联规则\n",
    "rules = association_rules(frequent_itemsets, metric=\"confidence\", min_threshold=0.4)\n",
    "\n",
    "print(rules[['antecedents', 'consequents', 'support', 'confidence', 'lift']])\n",
    "rules['antecedents'] = rules['antecedents'].apply(lambda x: ', '.join(list(x)))\n",
    "rules['consequents'] = rules['consequents'].apply(lambda x: ', '.join(list(x)))\n",
    "\n",
    "# 保存为 txt 文件，使用制表符或其他分隔符\n",
    "rules.to_csv(join(output_path,'association_refund_rules_10G.txt'), \n",
    "                      columns=['antecedents', 'consequents', 'support', 'confidence', 'lift'],\n",
    "                      sep='\\t',  # 可以改成 ',' 以便导入 Excel\n",
    "                      index=False,\n",
    "                      encoding='utf-8')\n",
    "print('done')\n"
   ]
  },
  {
   "cell_type": "code",
   "execution_count": null,
   "id": "dce38aa2",
   "metadata": {},
   "outputs": [],
   "source": []
  }
 ],
 "metadata": {
  "kernelspec": {
   "display_name": "datamine",
   "language": "python",
   "name": "python3"
  },
  "language_info": {
   "codemirror_mode": {
    "name": "ipython",
    "version": 3
   },
   "file_extension": ".py",
   "mimetype": "text/x-python",
   "name": "python",
   "nbconvert_exporter": "python",
   "pygments_lexer": "ipython3",
   "version": "3.12.0"
  }
 },
 "nbformat": 4,
 "nbformat_minor": 5
}
